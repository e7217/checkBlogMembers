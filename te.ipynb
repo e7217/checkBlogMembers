{
 "cells": [
  {
   "cell_type": "code",
   "execution_count": 1,
   "metadata": {
    "collapsed": true
   },
   "outputs": [],
   "source": [
    "#-*- coding:utf-8 -*-\n",
    "\n",
    "from selenium import webdriver\n",
    "from webdriver_manager.chrome import ChromeDriverManager\n",
    "from selenium.webdriver.common.keys import Keys\n",
    "from selenium.webdriver.chrome.options import Options\n",
    "from selenium.webdriver.support.ui import WebDriverWait\n",
    "from selenium.common.exceptions import NoSuchElementException\n",
    "from selenium.webdriver.support import expected_conditions as EC\n",
    "import time, json\n",
    "import openpyxl\n",
    "from openpyxl.styles import Border, Side, PatternFill\n",
    "\n",
    "# todo: 포스트 주소 리스트 불러오기\n",
    "# todo: 포스트 멤버 리스트 불러오기\n",
    "# todo: 검증 대상 멤버 불러오기\n",
    "# todo: 비교 후 공감 빠드린 포스트 주소 체크\n",
    "# todo: 비교 후 공감 빠뜨린 수 체크"
   ]
  },
  {
   "cell_type": "code",
   "execution_count": 439,
   "outputs": [],
   "source": [],
   "metadata": {
    "collapsed": false,
    "pycharm": {
     "name": "#%%\n"
    }
   }
  },
  {
   "cell_type": "code",
   "execution_count": 2,
   "outputs": [
    {
     "name": "stderr",
     "output_type": "stream",
     "text": [
      "[WDM] - Current google-chrome version is 87.0.4280\n",
      "[WDM] - Get LATEST driver version for 87.0.4280\n",
      "[WDM] - Driver [C:\\Users\\CY\\.wdm\\drivers\\chromedriver\\win32\\87.0.4280.88\\chromedriver.exe] found in cache\n"
     ]
    },
    {
     "name": "stdout",
     "output_type": "stream",
     "text": [
      " \n"
     ]
    }
   ],
   "source": [
    "options = Options()\n",
    "options.page_load_strategy = 'eager'\n",
    "driver = webdriver.Chrome(ChromeDriverManager().install(), options=options)\n",
    "wait = WebDriverWait(driver, 10)"
   ],
   "metadata": {
    "collapsed": false,
    "pycharm": {
     "name": "#%%\n"
    }
   }
  },
  {
   "cell_type": "code",
   "execution_count": 455,
   "outputs": [
    {
     "name": "stdout",
     "output_type": "stream",
     "text": [
      "<selenium.webdriver.chrome.webdriver.WebDriver (session=\"d48f1b4e36d14c7ae1dce283e79eb98d\")>\n"
     ]
    }
   ],
   "source": [
    "print(driver)\n"
   ],
   "metadata": {
    "collapsed": false,
    "pycharm": {
     "name": "#%%\n"
    }
   }
  },
  {
   "cell_type": "code",
   "execution_count": 442,
   "outputs": [],
   "source": [
    "# # 교집합\n",
    "# lst1 = ['A', 'B', 'C', 'D']\n",
    "# lst2 = ['C', 'D', 'E', 'F']\n",
    "# intersection = list(set(lst1) & set(lst2))\n",
    "# print( intersection ) # ['C', 'D']\n",
    "# # 차집합\n",
    "# x = set(lst1) - set(intersection)\n",
    "# print(list(x))\n"
   ],
   "metadata": {
    "collapsed": false,
    "pycharm": {
     "name": "#%%\n"
    }
   }
  },
  {
   "cell_type": "code",
   "execution_count": 443,
   "outputs": [],
   "source": [
    "def checkMembers(post, curMembers):\n",
    "    driver.get(post)\n",
    "\n",
    "    wait.until(lambda d: d.find_element_by_xpath('//*[@id=\"ct\"]/div[4]/div[3]/div/div[1]/a'))\n",
    "    time.sleep(0.5)\n",
    "    driver.execute_script(\"window.scrollTo(0, document.body.scrollHeight);\")\n",
    "    driver.find_element_by_xpath('//*[@id=\"ct\"]/div[4]/div[3]/div/div[1]/a').send_keys(Keys.ENTER)\n",
    "\n",
    "    wait.until(lambda d: d.find_elements_by_xpath('//*[@id=\"ct\"]/div[4]/div/ul/li'))\n",
    "    # 스크롤 다운\n",
    "    last_height=0\n",
    "    while True:\n",
    "        driver.execute_script(\"window.scrollTo(0, document.body.scrollHeight);\")\n",
    "\n",
    "        # 1초 대기\n",
    "        time.sleep(1)\n",
    "\n",
    "        # 스크롤 다운 후 스크롤 높이 다시 가져옴\n",
    "        new_height = driver.execute_script(\"return document.body.scrollHeight\")\n",
    "        if new_height == last_height:\n",
    "            break\n",
    "        last_height = new_height\n",
    "\n",
    "    members = driver.find_elements_by_xpath('//*[@id=\"ct\"]/div[4]/div/ul/li')\n",
    "    memberList = []\n",
    "    for i in members:\n",
    "        member = i.text.split('\\n')[0]\n",
    "        # print(member)\n",
    "        memberList.append(member)\n",
    "\n",
    "    # print(memberList)\n",
    "    setMemberList = set(memberList)\n",
    "    setCurMembers = set(curMembers)\n",
    "    print('setMemberList : ', setMemberList)\n",
    "    print('setCurMembers : ', setCurMembers)\n",
    "    # 교집합\n",
    "    intersection = set(memberList) & set(curMembers)\n",
    "    # print( intersection ) # ['C', 'D']\n",
    "    # 차집합\n",
    "    x = set(curMembers) - intersection\n",
    "    # print(list(x))\n",
    "    print(x)\n",
    "    return post, x"
   ],
   "metadata": {
    "collapsed": false,
    "pycharm": {
     "name": "#%%\n"
    }
   }
  },
  {
   "cell_type": "code",
   "execution_count": 444,
   "outputs": [
    {
     "name": "stdout",
     "output_type": "stream",
     "text": [
      "<Worksheet \"Sheet1\">\n",
      "value :  None\n",
      "value :  https://m.blog.naver.com/si_0225/222043558993\n",
      "value :  https://m.blog.naver.com/si_0225/222046010461\n",
      "value :  None\n",
      "value :  None\n",
      "value :  None\n",
      "['https://m.blog.naver.com/si_0225/222043558993', 'https://m.blog.naver.com/si_0225/222046010461']\n",
      "['라즈베리', '곱단', '앵니', '고블리스펙', '테스터']\n"
     ]
    }
   ],
   "source": [
    "wbLoad = openpyxl.load_workbook('targetList.xlsx')\n",
    "datas = wbLoad[\"Sheet1\"]\n",
    "print(datas)\n",
    "posts = []\n",
    "members = []\n",
    "for i in datas:\n",
    "    if i[0].value == '포스트유저' or i[1].value == '포스트 주소' or i[1].value == '검토멤버' :\n",
    "        pass\n",
    "    else :\n",
    "        try :\n",
    "            i[1].value = (i[1].value).replace('/blog.naver.com/', '/m.blog.naver.com/')\n",
    "            if 'naver' in i[1].value:\n",
    "                posts.append(i[1].value)\n",
    "        except:\n",
    "            pass\n",
    "        if i[2].value is not None:\n",
    "            members.append(i[2].value)\n",
    "        # print(\"x : \", x)\n",
    "        print(\"value : \", i[1].value)\n",
    "print(posts)\n",
    "print(members)"
   ],
   "metadata": {
    "collapsed": false,
    "pycharm": {
     "name": "#%%\n"
    }
   }
  },
  {
   "cell_type": "code",
   "execution_count": 445,
   "outputs": [
    {
     "name": "stdout",
     "output_type": "stream",
     "text": [
      "setMemberList :  {'핑크버블', '베네맘', '곱단', '웅비', '룽지언니', '도부장', 'REWHEEL', '부천공장사랑부동산', '일상적인 먹방', '발이바게트', '뇽', 'chemicalboys', '홀로그램', '지니', '안녕', '하수구뚫는명인', '놀기대장', '아띠홈', '은꽁', '로즈언니', '딜라잇', '조아', '선보', '라즈베리', '고미', '나나의봄날', '킴언니', '뷰스타 달콤달', '탕탕', '써니블리', '영또야', '고기싸롱', '미혜', '나리', '술의 종', '하면해', '소르소르', '컴파스', '랴', '킴치', '짱짱이', '또', '캠퍼꾸', '멋쟁이희준', '옝니', '데일리서우', '비니버디', 'kinkikids51', 'times0205', '홍당무', '초록뱀', '타니빵야', '몽몽', '정우디', '땡삐맘', '토낑이', '사라', '행복한이야기', '애송이줌관', '쉐프', 'CoCo SIRI', '이루리핏 EMS트레이닝', '홍나물', '달봉', '미미꽃', '정민', '쪼꼬쟁이', '쎄라킴', '이야이야홍홍', '해사한', '레몬버베나', '디해', '허스키보이스', '탬쓰', '흠냐링', '먕이', '마음이좋은사람', '지노', 'Grrrrrr', '테라', '쿠우', '이추', '제나팍', '근우준우맘', '고블리스펙트', '하미', '오늘민스', '김동화', '유니스', '곰곰이', '이쁜팅이', '해쯔니', '컴수리', '또링', '솜블리', '메이제이', '끼익', '이루다', '솔찡슬찡', '리샤', '망고노트', '팔오팔칠', '윤쏭쏭', '달떵이', '파나', '멜번가이', '요리요리', '쭈야예요', '세아', '율러블리', '여행은즐거워', '루월', '내마음의풍금', '리보니', '더플로지엔느', '경단기Supporter', '김마루씨', '정열매', '찰떡0430', '박새댁', '스텔라떼', '루시', '바게트', '신일주류상사'}\n",
      "setCurMembers :  {'라즈베리', '앵니', '곱단', '테스터', '고블리스펙'}\n",
      "{'테스터', '앵니', '고블리스펙'}\n",
      "\n",
      "    targetPost : https://m.blog.naver.com/si_0225/222043558993\n",
      "    badMember(s) : {'테스터', '앵니', '고블리스펙'}\n",
      "    \n",
      "{'테스터': {'cnt': 1, 'posts': ['https://m.blog.naver.com/si_0225/222043558993']}, '앵니': {'cnt': 1, 'posts': ['https://m.blog.naver.com/si_0225/222043558993']}, '고블리스펙': {'cnt': 1, 'posts': ['https://m.blog.naver.com/si_0225/222043558993']}}\n",
      "setMemberList :  {'핑크버블', '블루베리', '홍시하우스', '특별한미쓰리', '웅비', '룽지언니', '도부장', '곱단', 'REWHEEL', '느루', '부천공장사랑부동산', '일상적인 먹방', '발이바게트', '영어나라', '짐제임수', '뇽', 'chemicalboys', '홀로그램', 'ssophie', '지니', '안녕', '구찌랍니다', '권제호 정형외과 의사', '양양2', '놀기대장', '블링문문', '은꽁', '로즈언니', '딜라잇', '조아', '선보', '라즈베리', '고미', '나나의봄날', '킴언니', '뷰스타 달콤달', '써니블리', '영또야', '고기싸롱', '나리', '유찌', '술의 종', '연이', '메이플', '모또', '소르소르', '랴', '컴파스', '가을', '윤뜌', '킴치', '짱짱이', '또', '멋쟁이희준', '김주현미밥', '옝니', '린다', '데일리서우', 'kinkikids51', 'times0205', '초록뱀', '야나Do Anything', '단발쟁이함선생', '타니빵야', '몽몽', 'xanadu', '정우디', '토낑이', '행복한이야기', '애송이줌관', '뇽가', '쉐프', 'CoCo SIRI', '이루리핏 EMS트레이닝', '홍나물', '투자전문 다니엘오', '달봉', '미미꽃', '정민', '쪼꼬쟁이', '쎄라킴', '이쑹', 'heartking1000', '이야이야홍홍', '레몬버베나', '우아소', '돨이', '말괄량이 예니', 'Dr 김경환', '디해', '허스키보이스', '탬쓰', '강한맘', '마음이좋은사람', '지노', '한걸음', 'Grrrrrr', '콘콘', 'EasyGoingFood', '테라', '쿠우', '이추', '제나팍', '근우준우맘', '곰탱이', '고블리스펙트', '하미', '김동화', '오늘민스', '이쁜팅이', '해쯔니', '컴수리', '또링', '어정가구단지', '솜블리', '메이제이', '끼익', 'Haja', '이루다', '솔찡슬찡', '리샤', '망고노트', '팔오팔칠', '파나', '큐일리', '멜번가이', '요리요리', '쭈야예요', '세아', '율러블리', '여행은즐거워', '시샘달', '루월', '내마음의풍금', '리보니', '함작가', '건물주따님', '파수꾼', 'Reese', '시샘물', '경단기Supporter', '김마루씨', '찰떡0430', '수로그', '사진찍는 슨뉴맘', '다다', '플로플로리', '박새댁', '융지', '스텔라떼', '루시', '바게트', '신일주류상사'}\n",
      "setCurMembers :  {'라즈베리', '앵니', '곱단', '테스터', '고블리스펙'}\n",
      "{'테스터', '앵니', '고블리스펙'}\n",
      "\n",
      "    targetPost : https://m.blog.naver.com/si_0225/222046010461\n",
      "    badMember(s) : {'테스터', '앵니', '고블리스펙'}\n",
      "    \n",
      "{'테스터': {'cnt': 2, 'posts': ['https://m.blog.naver.com/si_0225/222043558993', 'https://m.blog.naver.com/si_0225/222046010461']}, '앵니': {'cnt': 2, 'posts': ['https://m.blog.naver.com/si_0225/222043558993', 'https://m.blog.naver.com/si_0225/222046010461']}, '고블리스펙': {'cnt': 2, 'posts': ['https://m.blog.naver.com/si_0225/222043558993', 'https://m.blog.naver.com/si_0225/222046010461']}}\n"
     ]
    }
   ],
   "source": [
    "finalChart = {}\n",
    "for post in posts:\n",
    "    x, y = checkMembers(post, members)\n",
    "    print(\n",
    "    f'''\n",
    "    targetPost : {x}\n",
    "    badMember(s) : {y}\n",
    "    ''')\n",
    "    for i in y:\n",
    "        if i in finalChart.keys():\n",
    "            finalChart[i][\"cnt\"] = finalChart[i][\"cnt\"]+1\n",
    "            finalChart[i][\"posts\"].append(x)\n",
    "        else :\n",
    "            finalChart[i] = {\"cnt\":1, \"posts\":[x] }\n",
    "\n",
    "    print(finalChart)"
   ],
   "metadata": {
    "collapsed": false,
    "pycharm": {
     "name": "#%%\n"
    }
   }
  },
  {
   "cell_type": "code",
   "execution_count": 446,
   "outputs": [
    {
     "name": "stdout",
     "output_type": "stream",
     "text": [
      "processing...\n",
      "\n",
      "        member : 테스터\n",
      "        Missing : 2\n",
      "        posts : ['https://m.blog.naver.com/si_0225/222043558993', 'https://m.blog.naver.com/si_0225/222046010461']\n",
      "        \n",
      "processing...\n",
      "\n",
      "        member : 앵니\n",
      "        Missing : 2\n",
      "        posts : ['https://m.blog.naver.com/si_0225/222043558993', 'https://m.blog.naver.com/si_0225/222046010461']\n",
      "        \n",
      "processing...\n",
      "\n",
      "        member : 고블리스펙\n",
      "        Missing : 2\n",
      "        posts : ['https://m.blog.naver.com/si_0225/222043558993', 'https://m.blog.naver.com/si_0225/222046010461']\n",
      "        \n"
     ]
    }
   ],
   "source": [
    "def AutoFitColumnSize(worksheet, columns=None, margin=2):\n",
    "    for i, column_cells in enumerate(worksheet.columns):\n",
    "        is_ok = False\n",
    "        if columns == None:\n",
    "            is_ok = True\n",
    "        elif isinstance(columns, list) and i in columns:\n",
    "            is_ok = True\n",
    "\n",
    "        if is_ok:\n",
    "            length = max(len(str(cell.value)) for cell in column_cells)\n",
    "            worksheet.column_dimensions[column_cells[0].column_letter].width = length + margin\n",
    "\n",
    "    return worksheet\n",
    "\n",
    "wbSave = openpyxl.Workbook()\n",
    "thin = Side(border_style=\"thin\", color=\"000000\")\n",
    "medium = Side(border_style=\"medium\", color=\"000000\")\n",
    "double = Side(border_style=\"double\", color=\"000000\")\n",
    "wbSaveSheet = wbSave.active\n",
    "rowCnt = 2\n",
    "wbSaveSheet[f\"b{rowCnt}\"] = \"멤버이름\"\n",
    "wbSaveSheet[f\"b{rowCnt}\"].border = Border(top=double, left=double, right=thin, bottom=double)\n",
    "wbSaveSheet[f\"c{rowCnt}\"] = \"누락수\"\n",
    "wbSaveSheet[f\"c{rowCnt}\"].border = Border(top=double, left=thin, right=thin, bottom=double)\n",
    "wbSaveSheet[f\"d{rowCnt}\"] = \"포스트주소\"\n",
    "wbSaveSheet[f\"d{rowCnt}\"].border = Border(top=double, left=thin, right=double, bottom=double)\n",
    "for member in finalChart:\n",
    "    print('processing...')\n",
    "    wbSaveSheet[f\"b{rowCnt+1}\"] = member\n",
    "    wbSaveSheet[f\"b{rowCnt+1}\"].fill = PatternFill(\"solid\", fgColor=\"00FFFF00\")\n",
    "    wbSaveSheet[f\"b{rowCnt+1}\"].border = Border(top=thin, left=double, right=thin, bottom=thin)\n",
    "    wbSaveSheet[f\"c{rowCnt+1}\"] = finalChart[member][\"cnt\"]\n",
    "    wbSaveSheet[f\"c{rowCnt+1}\"].border = Border(top=thin, left=thin, right=thin, bottom=thin)\n",
    "    wbSaveSheet[f\"d{rowCnt+1}\"] = str(finalChart[member][\"posts\"])\n",
    "    wbSaveSheet[f\"d{rowCnt+1}\"].border = Border(top=thin, left=thin, right=double, bottom=thin)\n",
    "    rowCnt += 1\n",
    "    print(\n",
    "        f'''\n",
    "        member : {member}\n",
    "        Missing : {str(finalChart[member][\"cnt\"])}\n",
    "        posts : {str(finalChart[member][\"posts\"])}\n",
    "        ''')\n",
    "wbSaveSheet[f\"b{rowCnt+1}\"].border = Border(top=double)\n",
    "wbSaveSheet[f\"c{rowCnt+1}\"].border = Border(top=double)\n",
    "wbSaveSheet[f\"d{rowCnt+1}\"].border = Border(top=double)\n",
    "wbSaveSheet = AutoFitColumnSize(wbSaveSheet, margin=4)\n",
    "wbSave.save('results.xlsx')\n",
    "\n",
    "\n"
   ],
   "metadata": {
    "collapsed": false,
    "pycharm": {
     "name": "#%%\n"
    }
   }
  },
  {
   "cell_type": "code",
   "execution_count": 6,
   "outputs": [],
   "source": [
    "post = 'https://in.naver.com/chs3202/contents/258039385097760?query=%ED%83%88%EB%AA%A8%EC%83%B4%ED%91%B8'\n",
    "driver.get(post)"
   ],
   "metadata": {
    "collapsed": false,
    "pycharm": {
     "name": "#%%\n"
    }
   }
  },
  {
   "cell_type": "code",
   "execution_count": 7,
   "outputs": [],
   "source": [
    "# iframe = driver.find_elements_by_tag_name('iframe')[0]\n",
    "# driver.switch_to_frame(iframe)\n",
    "driver.switch_to.frame(driver.find_elements_by_tag_name('iframe')[0])\n",
    "driver.find_element_by_class_name('btn_like_more').send_keys(Keys.ENTER)\n",
    "# wait.until(lambda d: d.find_element_by_class_name('btn_like_more'))\n",
    "# #body > div.floating_menu > div > div.btn_like_w > a\n",
    "# //*[@id=\"body\"]/div[4]/div[1]/h2/div/span[2]/a\n",
    "# aaa = driver.find_elements_by_xpath('//*[@id=\"app\"]/div[1]/div/div/div[2]/iframe')\n",
    "# driver.switch_to_frame(aaa)\n",
    "# driver.find_element_by_xpath('//*[@id=\"body\"]/div[4]').send_keys(Keys.ENTER)\n",
    "# driver.find_element_by_class_name('btn_like_more').send_keys(Keys.ENTER)\n",
    "# driver.find_element_by_css_selector(\"#body > div.floating_menu > div > div.btn_like_w > a\").send_keys(Keys.ENTER)"
   ],
   "metadata": {
    "collapsed": false,
    "pycharm": {
     "name": "#%%\n"
    }
   }
  },
  {
   "cell_type": "code",
   "execution_count": 446,
   "outputs": [],
   "source": [],
   "metadata": {
    "collapsed": false,
    "pycharm": {
     "name": "#%%\n"
    }
   }
  }
 ],
 "metadata": {
  "kernelspec": {
   "display_name": "Python 3",
   "language": "python",
   "name": "python3"
  },
  "language_info": {
   "codemirror_mode": {
    "name": "ipython",
    "version": 2
   },
   "file_extension": ".py",
   "mimetype": "text/x-python",
   "name": "python",
   "nbconvert_exporter": "python",
   "pygments_lexer": "ipython2",
   "version": "2.7.6"
  }
 },
 "nbformat": 4,
 "nbformat_minor": 0
}